{
 "cells": [
  {
   "cell_type": "code",
   "execution_count": 2,
   "metadata": {
    "_cell_guid": "b1076dfc-b9ad-4769-8c92-a6c4dae69d19",
    "_uuid": "8f2839f25d086af736a60e9eeb907d3b93b6e0e5",
    "colab": {},
    "colab_type": "code",
    "id": "U2D2gTdJVp90"
   },
   "outputs": [],
   "source": [
    "import numpy as np\n",
    "import pandas as pd\n",
    "import seaborn as sns\n",
    "import matplotlib.pyplot as plt\n",
    "from collections import Counter"
   ]
  },
  {
   "cell_type": "code",
   "execution_count": 146,
   "metadata": {
    "_cell_guid": "79c7e3d0-c299-4dcb-8224-4455121ee9b0",
    "_uuid": "d629ff2d2480ee46fbb7e2d37f6b5fab8052498a",
    "colab": {},
    "colab_type": "code",
    "id": "oyGfxL3eVp9-"
   },
   "outputs": [
    {
     "data": {
      "text/html": [
       "<div>\n",
       "<style scoped>\n",
       "    .dataframe tbody tr th:only-of-type {\n",
       "        vertical-align: middle;\n",
       "    }\n",
       "\n",
       "    .dataframe tbody tr th {\n",
       "        vertical-align: top;\n",
       "    }\n",
       "\n",
       "    .dataframe thead th {\n",
       "        text-align: right;\n",
       "    }\n",
       "</style>\n",
       "<table border=\"1\" class=\"dataframe\">\n",
       "  <thead>\n",
       "    <tr style=\"text-align: right;\">\n",
       "      <th></th>\n",
       "      <th>imdb_id</th>\n",
       "      <th>budget</th>\n",
       "      <th>revenue</th>\n",
       "      <th>original_title</th>\n",
       "      <th>cast</th>\n",
       "      <th>director</th>\n",
       "      <th>tagline</th>\n",
       "      <th>overview</th>\n",
       "      <th>runtime</th>\n",
       "      <th>genres</th>\n",
       "      <th>production_companies</th>\n",
       "      <th>release_date</th>\n",
       "      <th>vote_average</th>\n",
       "      <th>release_year</th>\n",
       "    </tr>\n",
       "  </thead>\n",
       "  <tbody>\n",
       "    <tr>\n",
       "      <td>1396</td>\n",
       "      <td>tt0257516</td>\n",
       "      <td>35000000</td>\n",
       "      <td>19294901</td>\n",
       "      <td>Cursed</td>\n",
       "      <td>Portia de Rossi|Christina Ricci|Jesse Eisenber...</td>\n",
       "      <td>Wes Craven</td>\n",
       "      <td>What doesn't kill you makes you stronger.</td>\n",
       "      <td>A werewolf loose in Los Angeles changes the li...</td>\n",
       "      <td>97</td>\n",
       "      <td>Horror|Comedy</td>\n",
       "      <td>Craven-Maddalena Films|Outerbanks Entertainmen...</td>\n",
       "      <td>2/24/2005</td>\n",
       "      <td>5.0</td>\n",
       "      <td>2005</td>\n",
       "    </tr>\n",
       "    <tr>\n",
       "      <td>33</td>\n",
       "      <td>tt1051904</td>\n",
       "      <td>58000000</td>\n",
       "      <td>150170815</td>\n",
       "      <td>Goosebumps</td>\n",
       "      <td>Jack Black|Dylan Minnette|Odeya Rush|Amy Ryan|...</td>\n",
       "      <td>Rob Letterman</td>\n",
       "      <td>The stories are alive.</td>\n",
       "      <td>A teenager teams up with the daughter of young...</td>\n",
       "      <td>103</td>\n",
       "      <td>Adventure|Horror|Comedy</td>\n",
       "      <td>Columbia Pictures|Original Film|Scholastic Ent...</td>\n",
       "      <td>8/5/2015</td>\n",
       "      <td>6.2</td>\n",
       "      <td>2015</td>\n",
       "    </tr>\n",
       "    <tr>\n",
       "      <td>1061</td>\n",
       "      <td>tt1598828</td>\n",
       "      <td>40000000</td>\n",
       "      <td>36893721</td>\n",
       "      <td>One for the Money</td>\n",
       "      <td>Katherine Heigl|John Leguizamo|Debbie Reynolds...</td>\n",
       "      <td>Julie Anne Robinson</td>\n",
       "      <td>She's looking for a few not-so-good men</td>\n",
       "      <td>Stephanie Plum (Katherine Heigl), an unemploye...</td>\n",
       "      <td>91</td>\n",
       "      <td>Action|Comedy|Thriller|Crime|Romance</td>\n",
       "      <td>Lakeshore Entertainment|Sidney Kimmel Entertai...</td>\n",
       "      <td>1/26/2012</td>\n",
       "      <td>5.2</td>\n",
       "      <td>2012</td>\n",
       "    </tr>\n",
       "    <tr>\n",
       "      <td>656</td>\n",
       "      <td>tt0430922</td>\n",
       "      <td>28000000</td>\n",
       "      <td>92380927</td>\n",
       "      <td>Role Models</td>\n",
       "      <td>Seann William Scott|Paul Rudd|Elizabeth Banks|...</td>\n",
       "      <td>David Wain</td>\n",
       "      <td>They're about to get more than they plea-barga...</td>\n",
       "      <td>Two salesmen trash a company truck on an energ...</td>\n",
       "      <td>99</td>\n",
       "      <td>Comedy</td>\n",
       "      <td>Universal Pictures|Internationale Filmprodukti...</td>\n",
       "      <td>2/3/2008</td>\n",
       "      <td>6.3</td>\n",
       "      <td>2008</td>\n",
       "    </tr>\n",
       "    <tr>\n",
       "      <td>492</td>\n",
       "      <td>tt1391137</td>\n",
       "      <td>20000000</td>\n",
       "      <td>60072596</td>\n",
       "      <td>Why Did I Get Married Too?</td>\n",
       "      <td>Tyler Perry|Janet Jackson|Jill Scott|Sharon Le...</td>\n",
       "      <td>Tyler Perry</td>\n",
       "      <td>Marriage is an institution they're committed to.</td>\n",
       "      <td>Four couples reunite for their annual vacation...</td>\n",
       "      <td>121</td>\n",
       "      <td>Comedy|Romance</td>\n",
       "      <td>Lions Gate Films|The Tyler Perry Company</td>\n",
       "      <td>4/2/2010</td>\n",
       "      <td>6.0</td>\n",
       "      <td>2010</td>\n",
       "    </tr>\n",
       "  </tbody>\n",
       "</table>\n",
       "</div>"
      ],
      "text/plain": [
       "        imdb_id    budget    revenue              original_title  \\\n",
       "1396  tt0257516  35000000   19294901                      Cursed   \n",
       "33    tt1051904  58000000  150170815                  Goosebumps   \n",
       "1061  tt1598828  40000000   36893721           One for the Money   \n",
       "656   tt0430922  28000000   92380927                 Role Models   \n",
       "492   tt1391137  20000000   60072596  Why Did I Get Married Too?   \n",
       "\n",
       "                                                   cast             director  \\\n",
       "1396  Portia de Rossi|Christina Ricci|Jesse Eisenber...           Wes Craven   \n",
       "33    Jack Black|Dylan Minnette|Odeya Rush|Amy Ryan|...        Rob Letterman   \n",
       "1061  Katherine Heigl|John Leguizamo|Debbie Reynolds...  Julie Anne Robinson   \n",
       "656   Seann William Scott|Paul Rudd|Elizabeth Banks|...           David Wain   \n",
       "492   Tyler Perry|Janet Jackson|Jill Scott|Sharon Le...          Tyler Perry   \n",
       "\n",
       "                                                tagline  \\\n",
       "1396          What doesn't kill you makes you stronger.   \n",
       "33                               The stories are alive.   \n",
       "1061            She's looking for a few not-so-good men   \n",
       "656   They're about to get more than they plea-barga...   \n",
       "492    Marriage is an institution they're committed to.   \n",
       "\n",
       "                                               overview  runtime  \\\n",
       "1396  A werewolf loose in Los Angeles changes the li...       97   \n",
       "33    A teenager teams up with the daughter of young...      103   \n",
       "1061  Stephanie Plum (Katherine Heigl), an unemploye...       91   \n",
       "656   Two salesmen trash a company truck on an energ...       99   \n",
       "492   Four couples reunite for their annual vacation...      121   \n",
       "\n",
       "                                    genres  \\\n",
       "1396                         Horror|Comedy   \n",
       "33                 Adventure|Horror|Comedy   \n",
       "1061  Action|Comedy|Thriller|Crime|Romance   \n",
       "656                                 Comedy   \n",
       "492                         Comedy|Romance   \n",
       "\n",
       "                                   production_companies release_date  \\\n",
       "1396  Craven-Maddalena Films|Outerbanks Entertainmen...    2/24/2005   \n",
       "33    Columbia Pictures|Original Film|Scholastic Ent...     8/5/2015   \n",
       "1061  Lakeshore Entertainment|Sidney Kimmel Entertai...    1/26/2012   \n",
       "656   Universal Pictures|Internationale Filmprodukti...     2/3/2008   \n",
       "492            Lions Gate Films|The Tyler Perry Company     4/2/2010   \n",
       "\n",
       "      vote_average  release_year  \n",
       "1396           5.0          2005  \n",
       "33             6.2          2015  \n",
       "1061           5.2          2012  \n",
       "656            6.3          2008  \n",
       "492            6.0          2010  "
      ]
     },
     "execution_count": 146,
     "metadata": {},
     "output_type": "execute_result"
    }
   ],
   "source": [
    "data = pd.read_csv('movie_bd_v5.csv')\n",
    "data.sample(5)"
   ]
  },
  {
   "cell_type": "code",
   "execution_count": 147,
   "metadata": {
    "colab": {},
    "colab_type": "code",
    "id": "CoYUnagMVp-C"
   },
   "outputs": [
    {
     "data": {
      "text/html": [
       "<div>\n",
       "<style scoped>\n",
       "    .dataframe tbody tr th:only-of-type {\n",
       "        vertical-align: middle;\n",
       "    }\n",
       "\n",
       "    .dataframe tbody tr th {\n",
       "        vertical-align: top;\n",
       "    }\n",
       "\n",
       "    .dataframe thead th {\n",
       "        text-align: right;\n",
       "    }\n",
       "</style>\n",
       "<table border=\"1\" class=\"dataframe\">\n",
       "  <thead>\n",
       "    <tr style=\"text-align: right;\">\n",
       "      <th></th>\n",
       "      <th>budget</th>\n",
       "      <th>revenue</th>\n",
       "      <th>runtime</th>\n",
       "      <th>vote_average</th>\n",
       "      <th>release_year</th>\n",
       "    </tr>\n",
       "  </thead>\n",
       "  <tbody>\n",
       "    <tr>\n",
       "      <td>count</td>\n",
       "      <td>1.889000e+03</td>\n",
       "      <td>1.889000e+03</td>\n",
       "      <td>1889.000000</td>\n",
       "      <td>1889.000000</td>\n",
       "      <td>1889.000000</td>\n",
       "    </tr>\n",
       "    <tr>\n",
       "      <td>mean</td>\n",
       "      <td>5.431083e+07</td>\n",
       "      <td>1.553653e+08</td>\n",
       "      <td>109.658549</td>\n",
       "      <td>6.140762</td>\n",
       "      <td>2007.860773</td>\n",
       "    </tr>\n",
       "    <tr>\n",
       "      <td>std</td>\n",
       "      <td>4.858721e+07</td>\n",
       "      <td>2.146698e+08</td>\n",
       "      <td>18.017041</td>\n",
       "      <td>0.764763</td>\n",
       "      <td>4.468841</td>\n",
       "    </tr>\n",
       "    <tr>\n",
       "      <td>min</td>\n",
       "      <td>5.000000e+06</td>\n",
       "      <td>2.033165e+06</td>\n",
       "      <td>63.000000</td>\n",
       "      <td>3.300000</td>\n",
       "      <td>2000.000000</td>\n",
       "    </tr>\n",
       "    <tr>\n",
       "      <td>25%</td>\n",
       "      <td>2.000000e+07</td>\n",
       "      <td>3.456058e+07</td>\n",
       "      <td>97.000000</td>\n",
       "      <td>5.600000</td>\n",
       "      <td>2004.000000</td>\n",
       "    </tr>\n",
       "    <tr>\n",
       "      <td>50%</td>\n",
       "      <td>3.800000e+07</td>\n",
       "      <td>8.361541e+07</td>\n",
       "      <td>107.000000</td>\n",
       "      <td>6.100000</td>\n",
       "      <td>2008.000000</td>\n",
       "    </tr>\n",
       "    <tr>\n",
       "      <td>75%</td>\n",
       "      <td>7.200000e+07</td>\n",
       "      <td>1.782626e+08</td>\n",
       "      <td>120.000000</td>\n",
       "      <td>6.600000</td>\n",
       "      <td>2012.000000</td>\n",
       "    </tr>\n",
       "    <tr>\n",
       "      <td>max</td>\n",
       "      <td>3.800000e+08</td>\n",
       "      <td>2.781506e+09</td>\n",
       "      <td>214.000000</td>\n",
       "      <td>8.100000</td>\n",
       "      <td>2015.000000</td>\n",
       "    </tr>\n",
       "  </tbody>\n",
       "</table>\n",
       "</div>"
      ],
      "text/plain": [
       "             budget       revenue      runtime  vote_average  release_year\n",
       "count  1.889000e+03  1.889000e+03  1889.000000   1889.000000   1889.000000\n",
       "mean   5.431083e+07  1.553653e+08   109.658549      6.140762   2007.860773\n",
       "std    4.858721e+07  2.146698e+08    18.017041      0.764763      4.468841\n",
       "min    5.000000e+06  2.033165e+06    63.000000      3.300000   2000.000000\n",
       "25%    2.000000e+07  3.456058e+07    97.000000      5.600000   2004.000000\n",
       "50%    3.800000e+07  8.361541e+07   107.000000      6.100000   2008.000000\n",
       "75%    7.200000e+07  1.782626e+08   120.000000      6.600000   2012.000000\n",
       "max    3.800000e+08  2.781506e+09   214.000000      8.100000   2015.000000"
      ]
     },
     "execution_count": 147,
     "metadata": {},
     "output_type": "execute_result"
    }
   ],
   "source": [
    "data.describe()"
   ]
  },
  {
   "cell_type": "markdown",
   "metadata": {
    "colab_type": "text",
    "id": "DTIt7ezGVp-G"
   },
   "source": [
    "# Предобработка"
   ]
  },
  {
   "cell_type": "code",
   "execution_count": 148,
   "metadata": {},
   "outputs": [],
   "source": [
    "answers = {} # создадим словарь для ответов"
   ]
  },
  {
   "cell_type": "code",
   "execution_count": 149,
   "metadata": {
    "colab": {},
    "colab_type": "code",
    "id": "jNb40DwKVp-H"
   },
   "outputs": [],
   "source": [
    "\n",
    "# data.release_date = data.release_date.str.replace('/','')\n",
    "# data['release_date'] = data['release_date'].to_datetype()\n",
    "\n",
    "# type(data.release_date)        \n",
    "\n",
    "# data\n",
    "\n",
    "# тут другие ваши предобработки колонок например:\n",
    "\n",
    "#the time given in the dataset is in string format.\n",
    "#So we need to change this in datetime format\n",
    "data['release_date'] = pd.to_datetime(data['release_date'])\n",
    "\n",
    "# пройдемся по датафреймуц и создадим новый столбец с данными - профит, для понимаения прибыльности фильма\n",
    "data['profit'] = data.apply(lambda x: x['revenue'] - x['budget'], axis=1)\n",
    "# data.head(5)\n",
    "# Получим колонки для создания списка с колонок и дельнейшей его трансформации\n",
    "cols = list(data.columns.values)\n",
    "# Посмотрим на список, и изменим в нем то что нам нужно \n",
    "# (не удобно смотреть на профит в конце, лучше смотреть на него сразу после бюджета)\n",
    "cols\n",
    "data = data[['imdb_id',\n",
    " 'budget',\n",
    " 'revenue','profit',\n",
    " 'original_title',\n",
    " 'cast',\n",
    " 'director',\n",
    " 'tagline',\n",
    " 'overview',\n",
    " 'runtime',\n",
    " 'genres',\n",
    " 'production_companies',\n",
    " 'release_date',\n",
    " 'vote_average',\n",
    " 'release_year',]]\n",
    "\n"
   ]
  },
  {
   "cell_type": "markdown",
   "metadata": {
    "colab_type": "text",
    "id": "YxZaH-nPVp-L"
   },
   "source": [
    "# 1. У какого фильма из списка самый большой бюджет?"
   ]
  },
  {
   "cell_type": "markdown",
   "metadata": {
    "colab_type": "text",
    "id": "Nd-G5gX6Vp-M"
   },
   "source": [
    "Использовать варианты ответов в коде решения запрещено.    \n",
    "Вы думаете и в жизни у вас будут варианты ответов?)"
   ]
  },
  {
   "cell_type": "code",
   "execution_count": 150,
   "metadata": {
    "colab": {},
    "colab_type": "code",
    "id": "uVnXAY5RVp-O"
   },
   "outputs": [],
   "source": [
    "# в словарь вставляем номер вопроса и ваш ответ на него\n",
    "# Пример: \n",
    "answers['1'] = '2. Spider-Man 3 (tt0413300)'\n",
    "# запишите свой вариант ответа\n",
    "answers['1'] = data.iloc[723]\n",
    "# answers\n",
    "# если ответили верно, можете добавить комментарий со значком \"+\""
   ]
  },
  {
   "cell_type": "code",
   "execution_count": 145,
   "metadata": {
    "colab": {},
    "colab_type": "code",
    "id": "dZwb3m28Vp-S"
   },
   "outputs": [
    {
     "data": {
      "text/html": [
       "<div>\n",
       "<style scoped>\n",
       "    .dataframe tbody tr th:only-of-type {\n",
       "        vertical-align: middle;\n",
       "    }\n",
       "\n",
       "    .dataframe tbody tr th {\n",
       "        vertical-align: top;\n",
       "    }\n",
       "\n",
       "    .dataframe thead th {\n",
       "        text-align: right;\n",
       "    }\n",
       "</style>\n",
       "<table border=\"1\" class=\"dataframe\">\n",
       "  <thead>\n",
       "    <tr style=\"text-align: right;\">\n",
       "      <th></th>\n",
       "      <th>imdb_id</th>\n",
       "      <th>budget</th>\n",
       "      <th>revenue</th>\n",
       "      <th>profit</th>\n",
       "      <th>original_title</th>\n",
       "      <th>cast</th>\n",
       "      <th>director</th>\n",
       "      <th>tagline</th>\n",
       "      <th>overview</th>\n",
       "      <th>runtime</th>\n",
       "      <th>genres</th>\n",
       "      <th>production_companies</th>\n",
       "      <th>release_date</th>\n",
       "      <th>vote_average</th>\n",
       "      <th>release_year</th>\n",
       "    </tr>\n",
       "  </thead>\n",
       "  <tbody>\n",
       "    <tr>\n",
       "      <td>723</td>\n",
       "      <td>tt1298650</td>\n",
       "      <td>380000000</td>\n",
       "      <td>1021683000</td>\n",
       "      <td>641683000</td>\n",
       "      <td>Pirates of the Caribbean: On Stranger Tides</td>\n",
       "      <td>Johnny Depp|PenÃ©lope Cruz|Geoffrey Rush|Ian M...</td>\n",
       "      <td>Rob Marshall</td>\n",
       "      <td>Live Forever Or Die Trying.</td>\n",
       "      <td>Captain Jack Sparrow crosses paths with a woma...</td>\n",
       "      <td>136</td>\n",
       "      <td>Adventure|Action|Fantasy</td>\n",
       "      <td>Walt Disney Pictures|Jerry Bruckheimer Films|M...</td>\n",
       "      <td>2011-05-11</td>\n",
       "      <td>6.3</td>\n",
       "      <td>2011</td>\n",
       "    </tr>\n",
       "  </tbody>\n",
       "</table>\n",
       "</div>"
      ],
      "text/plain": [
       "       imdb_id     budget     revenue     profit  \\\n",
       "723  tt1298650  380000000  1021683000  641683000   \n",
       "\n",
       "                                  original_title  \\\n",
       "723  Pirates of the Caribbean: On Stranger Tides   \n",
       "\n",
       "                                                  cast      director  \\\n",
       "723  Johnny Depp|PenÃ©lope Cruz|Geoffrey Rush|Ian M...  Rob Marshall   \n",
       "\n",
       "                         tagline  \\\n",
       "723  Live Forever Or Die Trying.   \n",
       "\n",
       "                                              overview  runtime  \\\n",
       "723  Captain Jack Sparrow crosses paths with a woma...      136   \n",
       "\n",
       "                       genres  \\\n",
       "723  Adventure|Action|Fantasy   \n",
       "\n",
       "                                  production_companies release_date  \\\n",
       "723  Walt Disney Pictures|Jerry Bruckheimer Films|M...   2011-05-11   \n",
       "\n",
       "     vote_average  release_year  \n",
       "723           6.3          2011  "
      ]
     },
     "execution_count": 145,
     "metadata": {},
     "output_type": "execute_result"
    }
   ],
   "source": [
    "# тут пишем ваш код для решения данного вопроса:\n",
    "# Определяем какое вообще максимальное значение, просто чтоб посмотреть на него :) мы посмотрели и поняли\n",
    "# цифру,больше она нам не интересна, можно закомментрпровать.\n",
    "# data.budget.max()\n",
    "# Фильтруем датасет по максимальному значению и видим ответ\n",
    "data.loc[data['budget'] == data.budget.max()]"
   ]
  },
  {
   "cell_type": "markdown",
   "metadata": {
    "colab_type": "text",
    "id": "K7L3nbRXVp-X"
   },
   "source": [
    "ВАРИАНТ 2"
   ]
  },
  {
   "cell_type": "code",
   "execution_count": 151,
   "metadata": {
    "colab": {},
    "colab_type": "code",
    "id": "OGaoQI7rVp-X"
   },
   "outputs": [
    {
     "data": {
      "text/html": [
       "<div>\n",
       "<style scoped>\n",
       "    .dataframe tbody tr th:only-of-type {\n",
       "        vertical-align: middle;\n",
       "    }\n",
       "\n",
       "    .dataframe tbody tr th {\n",
       "        vertical-align: top;\n",
       "    }\n",
       "\n",
       "    .dataframe thead th {\n",
       "        text-align: right;\n",
       "    }\n",
       "</style>\n",
       "<table border=\"1\" class=\"dataframe\">\n",
       "  <thead>\n",
       "    <tr style=\"text-align: right;\">\n",
       "      <th></th>\n",
       "      <th>imdb_id</th>\n",
       "      <th>budget</th>\n",
       "      <th>revenue</th>\n",
       "      <th>profit</th>\n",
       "      <th>original_title</th>\n",
       "      <th>cast</th>\n",
       "      <th>director</th>\n",
       "      <th>tagline</th>\n",
       "      <th>overview</th>\n",
       "      <th>runtime</th>\n",
       "      <th>genres</th>\n",
       "      <th>production_companies</th>\n",
       "      <th>release_date</th>\n",
       "      <th>vote_average</th>\n",
       "      <th>release_year</th>\n",
       "    </tr>\n",
       "  </thead>\n",
       "  <tbody>\n",
       "    <tr>\n",
       "      <td>723</td>\n",
       "      <td>tt1298650</td>\n",
       "      <td>380000000</td>\n",
       "      <td>1021683000</td>\n",
       "      <td>641683000</td>\n",
       "      <td>Pirates of the Caribbean: On Stranger Tides</td>\n",
       "      <td>Johnny Depp|PenÃ©lope Cruz|Geoffrey Rush|Ian M...</td>\n",
       "      <td>Rob Marshall</td>\n",
       "      <td>Live Forever Or Die Trying.</td>\n",
       "      <td>Captain Jack Sparrow crosses paths with a woma...</td>\n",
       "      <td>136</td>\n",
       "      <td>Adventure|Action|Fantasy</td>\n",
       "      <td>Walt Disney Pictures|Jerry Bruckheimer Films|M...</td>\n",
       "      <td>2011-05-11</td>\n",
       "      <td>6.3</td>\n",
       "      <td>2011</td>\n",
       "    </tr>\n",
       "    <tr>\n",
       "      <td>1669</td>\n",
       "      <td>tt0449088</td>\n",
       "      <td>300000000</td>\n",
       "      <td>961000000</td>\n",
       "      <td>661000000</td>\n",
       "      <td>Pirates of the Caribbean: At World's End</td>\n",
       "      <td>Johnny Depp|Orlando Bloom|Keira Knightley|Geof...</td>\n",
       "      <td>Gore Verbinski</td>\n",
       "      <td>At the end of the world, the adventure begins.</td>\n",
       "      <td>Captain Barbossa, long believed to be dead, ha...</td>\n",
       "      <td>169</td>\n",
       "      <td>Adventure|Fantasy|Action</td>\n",
       "      <td>Walt Disney Pictures|Jerry Bruckheimer Films|S...</td>\n",
       "      <td>2007-05-19</td>\n",
       "      <td>6.8</td>\n",
       "      <td>2007</td>\n",
       "    </tr>\n",
       "    <tr>\n",
       "      <td>14</td>\n",
       "      <td>tt2395427</td>\n",
       "      <td>280000000</td>\n",
       "      <td>1405035767</td>\n",
       "      <td>1125035767</td>\n",
       "      <td>Avengers: Age of Ultron</td>\n",
       "      <td>Robert Downey Jr.|Chris Hemsworth|Mark Ruffalo...</td>\n",
       "      <td>Joss Whedon</td>\n",
       "      <td>A New Age Has Come.</td>\n",
       "      <td>When Tony Stark tries to jumpstart a dormant p...</td>\n",
       "      <td>141</td>\n",
       "      <td>Action|Adventure|Science Fiction</td>\n",
       "      <td>Marvel Studios|Prime Focus|Revolution Sun Studios</td>\n",
       "      <td>2015-04-22</td>\n",
       "      <td>7.4</td>\n",
       "      <td>2015</td>\n",
       "    </tr>\n",
       "    <tr>\n",
       "      <td>1014</td>\n",
       "      <td>tt0401729</td>\n",
       "      <td>260000000</td>\n",
       "      <td>284139100</td>\n",
       "      <td>24139100</td>\n",
       "      <td>John Carter</td>\n",
       "      <td>Taylor Kitsch|Lynn Collins|Mark Strong|Willem ...</td>\n",
       "      <td>Andrew Stanton</td>\n",
       "      <td>Lost in Our World. Found in Another.</td>\n",
       "      <td>Civil War vet John Carter is transplanted to M...</td>\n",
       "      <td>132</td>\n",
       "      <td>Action|Adventure|Fantasy|Science Fiction</td>\n",
       "      <td>Walt Disney Pictures</td>\n",
       "      <td>2012-03-07</td>\n",
       "      <td>6.0</td>\n",
       "      <td>2012</td>\n",
       "    </tr>\n",
       "    <tr>\n",
       "      <td>380</td>\n",
       "      <td>tt0398286</td>\n",
       "      <td>260000000</td>\n",
       "      <td>591794936</td>\n",
       "      <td>331794936</td>\n",
       "      <td>Tangled</td>\n",
       "      <td>Zachary Levi|Mandy Moore|Donna Murphy|Ron Perl...</td>\n",
       "      <td>Nathan Greno|Byron Howard</td>\n",
       "      <td>They're taking adventure to new lengths.</td>\n",
       "      <td>When the kingdom's most wanted-and most charmi...</td>\n",
       "      <td>100</td>\n",
       "      <td>Animation|Family</td>\n",
       "      <td>Walt Disney Pictures|Walt Disney Animation Stu...</td>\n",
       "      <td>2010-11-24</td>\n",
       "      <td>7.3</td>\n",
       "      <td>2010</td>\n",
       "    </tr>\n",
       "  </tbody>\n",
       "</table>\n",
       "</div>"
      ],
      "text/plain": [
       "        imdb_id     budget     revenue      profit  \\\n",
       "723   tt1298650  380000000  1021683000   641683000   \n",
       "1669  tt0449088  300000000   961000000   661000000   \n",
       "14    tt2395427  280000000  1405035767  1125035767   \n",
       "1014  tt0401729  260000000   284139100    24139100   \n",
       "380   tt0398286  260000000   591794936   331794936   \n",
       "\n",
       "                                   original_title  \\\n",
       "723   Pirates of the Caribbean: On Stranger Tides   \n",
       "1669     Pirates of the Caribbean: At World's End   \n",
       "14                        Avengers: Age of Ultron   \n",
       "1014                                  John Carter   \n",
       "380                                       Tangled   \n",
       "\n",
       "                                                   cast  \\\n",
       "723   Johnny Depp|PenÃ©lope Cruz|Geoffrey Rush|Ian M...   \n",
       "1669  Johnny Depp|Orlando Bloom|Keira Knightley|Geof...   \n",
       "14    Robert Downey Jr.|Chris Hemsworth|Mark Ruffalo...   \n",
       "1014  Taylor Kitsch|Lynn Collins|Mark Strong|Willem ...   \n",
       "380   Zachary Levi|Mandy Moore|Donna Murphy|Ron Perl...   \n",
       "\n",
       "                       director  \\\n",
       "723                Rob Marshall   \n",
       "1669             Gore Verbinski   \n",
       "14                  Joss Whedon   \n",
       "1014             Andrew Stanton   \n",
       "380   Nathan Greno|Byron Howard   \n",
       "\n",
       "                                             tagline  \\\n",
       "723                      Live Forever Or Die Trying.   \n",
       "1669  At the end of the world, the adventure begins.   \n",
       "14                               A New Age Has Come.   \n",
       "1014            Lost in Our World. Found in Another.   \n",
       "380         They're taking adventure to new lengths.   \n",
       "\n",
       "                                               overview  runtime  \\\n",
       "723   Captain Jack Sparrow crosses paths with a woma...      136   \n",
       "1669  Captain Barbossa, long believed to be dead, ha...      169   \n",
       "14    When Tony Stark tries to jumpstart a dormant p...      141   \n",
       "1014  Civil War vet John Carter is transplanted to M...      132   \n",
       "380   When the kingdom's most wanted-and most charmi...      100   \n",
       "\n",
       "                                        genres  \\\n",
       "723                   Adventure|Action|Fantasy   \n",
       "1669                  Adventure|Fantasy|Action   \n",
       "14            Action|Adventure|Science Fiction   \n",
       "1014  Action|Adventure|Fantasy|Science Fiction   \n",
       "380                           Animation|Family   \n",
       "\n",
       "                                   production_companies release_date  \\\n",
       "723   Walt Disney Pictures|Jerry Bruckheimer Films|M...   2011-05-11   \n",
       "1669  Walt Disney Pictures|Jerry Bruckheimer Films|S...   2007-05-19   \n",
       "14    Marvel Studios|Prime Focus|Revolution Sun Studios   2015-04-22   \n",
       "1014                               Walt Disney Pictures   2012-03-07   \n",
       "380   Walt Disney Pictures|Walt Disney Animation Stu...   2010-11-24   \n",
       "\n",
       "      vote_average  release_year  \n",
       "723            6.3          2011  \n",
       "1669           6.8          2007  \n",
       "14             7.4          2015  \n",
       "1014           6.0          2012  \n",
       "380            7.3          2010  "
      ]
     },
     "execution_count": 151,
     "metadata": {},
     "output_type": "execute_result"
    }
   ],
   "source": [
    "# можно также отфильтровать первые 5 или 10 значений датафрейма по убыванию по колонке бюджета\n",
    "# и вывести например 5 первых\n",
    "data.sort_values(by = ['budget'], inplace=True, ascending=False)\n",
    "data.head(5)"
   ]
  },
  {
   "cell_type": "markdown",
   "metadata": {
    "colab_type": "text",
    "id": "FNRbbI3vVp-c"
   },
   "source": [
    "# 2. Какой из фильмов самый длительный (в минутах)?"
   ]
  },
  {
   "cell_type": "code",
   "execution_count": 152,
   "metadata": {
    "colab": {},
    "colab_type": "code",
    "id": "vHAoEXNTVp-d"
   },
   "outputs": [],
   "source": [
    "# думаю логику работы с этим словарем вы уже поняли, \n",
    "# по этому не буду больше его дублировать\n",
    "# data.loc[data.runtime == data.runtime.max()]\n",
    "answers['2'] = data.loc[data.runtime == data.runtime.max()]\n",
    "# answers"
   ]
  },
  {
   "cell_type": "code",
   "execution_count": 128,
   "metadata": {
    "colab": {},
    "colab_type": "code",
    "id": "ot-VX2XrVp-g"
   },
   "outputs": [
    {
     "data": {
      "text/html": [
       "<div>\n",
       "<style scoped>\n",
       "    .dataframe tbody tr th:only-of-type {\n",
       "        vertical-align: middle;\n",
       "    }\n",
       "\n",
       "    .dataframe tbody tr th {\n",
       "        vertical-align: top;\n",
       "    }\n",
       "\n",
       "    .dataframe thead th {\n",
       "        text-align: right;\n",
       "    }\n",
       "</style>\n",
       "<table border=\"1\" class=\"dataframe\">\n",
       "  <thead>\n",
       "    <tr style=\"text-align: right;\">\n",
       "      <th></th>\n",
       "      <th>imdb_id</th>\n",
       "      <th>budget</th>\n",
       "      <th>revenue</th>\n",
       "      <th>profit</th>\n",
       "      <th>original_title</th>\n",
       "      <th>cast</th>\n",
       "      <th>director</th>\n",
       "      <th>tagline</th>\n",
       "      <th>overview</th>\n",
       "      <th>runtime</th>\n",
       "      <th>genres</th>\n",
       "      <th>production_companies</th>\n",
       "      <th>release_date</th>\n",
       "      <th>vote_average</th>\n",
       "      <th>release_year</th>\n",
       "    </tr>\n",
       "  </thead>\n",
       "  <tbody>\n",
       "    <tr>\n",
       "      <th>1157</th>\n",
       "      <td>tt0279111</td>\n",
       "      <td>56000000</td>\n",
       "      <td>12923936</td>\n",
       "      <td>-43076064</td>\n",
       "      <td>Gods and Generals</td>\n",
       "      <td>Stephen Lang|Jeff Daniels|Robert Duvall|Kevin ...</td>\n",
       "      <td>Ronald F. Maxwell</td>\n",
       "      <td>The nations heart was touched by...</td>\n",
       "      <td>The film centers mostly around the personal an...</td>\n",
       "      <td>214</td>\n",
       "      <td>Drama|History|War</td>\n",
       "      <td>Turner Pictures|Antietam Filmworks</td>\n",
       "      <td>2/21/2003</td>\n",
       "      <td>5.8</td>\n",
       "      <td>2003</td>\n",
       "    </tr>\n",
       "  </tbody>\n",
       "</table>\n",
       "</div>"
      ],
      "text/plain": [
       "        imdb_id    budget   revenue    profit     original_title  \\\n",
       "1157  tt0279111  56000000  12923936 -43076064  Gods and Generals   \n",
       "\n",
       "                                                   cast           director  \\\n",
       "1157  Stephen Lang|Jeff Daniels|Robert Duvall|Kevin ...  Ronald F. Maxwell   \n",
       "\n",
       "                                  tagline  \\\n",
       "1157  The nations heart was touched by...   \n",
       "\n",
       "                                               overview  runtime  \\\n",
       "1157  The film centers mostly around the personal an...      214   \n",
       "\n",
       "                 genres                production_companies release_date  \\\n",
       "1157  Drama|History|War  Turner Pictures|Antietam Filmworks    2/21/2003   \n",
       "\n",
       "      vote_average  release_year  \n",
       "1157           5.8          2003  "
      ]
     },
     "execution_count": 128,
     "metadata": {},
     "output_type": "execute_result"
    }
   ],
   "source": [
    "# Аналогично можно отфильтровать первые 5 или сколько угодно, даже 1 через фильтрацию по возрастанию\n",
    "data.sort_values(by = ['runtime'], inplace=True, ascending=False)\n",
    "data.head(1)"
   ]
  },
  {
   "cell_type": "markdown",
   "metadata": {
    "colab_type": "text",
    "id": "bapLlpW8Vp-k"
   },
   "source": [
    "# 3. Какой из фильмов самый короткий (в минутах)?\n",
    "\n",
    "\n",
    "\n"
   ]
  },
  {
   "cell_type": "code",
   "execution_count": 153,
   "metadata": {
    "colab": {},
    "colab_type": "code",
    "id": "YBxaSHuAVp-l"
   },
   "outputs": [],
   "source": [
    "# Опираясь на то что мы уже отсортировали весь датафрейм от больше к меньшему\n",
    "# по столбцу длительности, нам можно просто взять хвост датафрейма.\n",
    "data.tail(1)\n",
    "# Но для того чтоб записать в ответ, нам все равно нужно прописать что именно мы туда записываем.\n",
    "answers['3'] = data.loc[data.runtime == data.runtime.min()]\n",
    "# answers"
   ]
  },
  {
   "cell_type": "markdown",
   "metadata": {
    "colab_type": "text",
    "id": "TfQbxbfNVp-p"
   },
   "source": [
    "# 4. Какова средняя длительность фильмов?\n"
   ]
  },
  {
   "cell_type": "code",
   "execution_count": 154,
   "metadata": {
    "colab": {},
    "colab_type": "code",
    "id": "5K6dKZYVVp-q"
   },
   "outputs": [],
   "source": [
    "answers['4'] = round(data.runtime.mean())"
   ]
  },
  {
   "cell_type": "markdown",
   "metadata": {
    "colab_type": "text",
    "id": "r5TvbnT_Vp-u"
   },
   "source": [
    "# 5. Каково медианное значение длительности фильмов? "
   ]
  },
  {
   "cell_type": "code",
   "execution_count": 155,
   "metadata": {
    "colab": {},
    "colab_type": "code",
    "id": "iBROplKnVp-v"
   },
   "outputs": [],
   "source": [
    "answers['5'] = round(data.runtime.median())"
   ]
  },
  {
   "cell_type": "markdown",
   "metadata": {
    "colab_type": "text",
    "id": "39P-deDSVp-y"
   },
   "source": [
    "# 6. Какой самый прибыльный фильм?\n",
    "#### Внимание! Здесь и далее под «прибылью» или «убытками» понимается разность между сборами и бюджетом фильма. (прибыль = сборы - бюджет) в нашем датасете это будет (profit = revenue - budget) "
   ]
  },
  {
   "cell_type": "code",
   "execution_count": 156,
   "metadata": {
    "colab": {},
    "colab_type": "code",
    "id": "UYZh4T9WVp-y"
   },
   "outputs": [],
   "source": [
    "answers['6'] = data.loc[data.profit == data.profit.max()]"
   ]
  },
  {
   "cell_type": "markdown",
   "metadata": {
    "colab_type": "text",
    "id": "M99JmIX4Vp-2"
   },
   "source": [
    "# 7. Какой фильм самый убыточный? "
   ]
  },
  {
   "cell_type": "code",
   "execution_count": 157,
   "metadata": {
    "colab": {},
    "colab_type": "code",
    "id": "w-D2m4XPVp-3"
   },
   "outputs": [],
   "source": [
    "answers['7'] = data.loc[data['profit'] == data.profit.min()]"
   ]
  },
  {
   "cell_type": "markdown",
   "metadata": {
    "colab_type": "text",
    "id": "wEOM5ERVVp-6"
   },
   "source": [
    "# 8. У скольких фильмов из датасета объем сборов оказался выше бюджета?"
   ]
  },
  {
   "cell_type": "code",
   "execution_count": 159,
   "metadata": {
    "colab": {},
    "colab_type": "code",
    "id": "y00_7HD6Vp-7"
   },
   "outputs": [],
   "source": [
    "# Можно создать новый датафрейм, и в него положить фиотрацию фильмов которые проходят по показателям\n",
    "# profitable = data[data['revenue'] > data['budget']]\n",
    "# len(profitable)\n",
    "# или же просто сделать одной записью:\n",
    "answers['8'] = len(data[data['revenue'] > data['budget']])"
   ]
  },
  {
   "cell_type": "markdown",
   "metadata": {
    "colab_type": "text",
    "id": "xhpspA9KVp_A"
   },
   "source": [
    "# 9. Какой фильм оказался самым кассовым в 2008 году?"
   ]
  },
  {
   "cell_type": "code",
   "execution_count": 160,
   "metadata": {
    "colab": {},
    "colab_type": "code",
    "id": "MoUyQr9RVp_B"
   },
   "outputs": [],
   "source": [
    "# Сделаем временный джатасет, в который отфильтруем все фильмы 2008 года\n",
    "year_2008 = data[data['release_year'] == 2008]\n",
    "# найдем максимальную выручку (из задания не совсем понятно, \n",
    "# имеется ввиду профит или ревеню, но оба резуоттатиа показывают одинаковый фильм)\n",
    "answers['9'] = year_2008.loc[year_2008.revenue == year_2008.revenue.max()]\n",
    "# data.loc[data.revenue == data.revenue.max()]]"
   ]
  },
  {
   "cell_type": "markdown",
   "metadata": {
    "colab_type": "text",
    "id": "Zi4hDKidVp_F"
   },
   "source": [
    "# 10. Самый убыточный фильм за период с 2012 по 2014 г. (включительно)?\n"
   ]
  },
  {
   "cell_type": "code",
   "execution_count": 163,
   "metadata": {
    "colab": {},
    "colab_type": "code",
    "id": "XqyRmufJVp_F"
   },
   "outputs": [],
   "source": [
    "# тут все по аналогии, но уже с филотрацией по годам между (кстати, пришлось повозитться, \n",
    "# так как код неикак не хотел работать, из-за того что нужго быть внимательным, иногда это && а иногда это and)\n",
    "year_12_14 = data[(data['release_year'] > 2011) & (data['release_year'] < 2015)]\n",
    "answers['10'] = year_12_14.loc[year_12_14.profit == year_12_14.profit.min()]"
   ]
  },
  {
   "cell_type": "markdown",
   "metadata": {
    "colab_type": "text",
    "id": "EA7Sa9dkVp_I"
   },
   "source": [
    "# 11. Какого жанра фильмов больше всего?"
   ]
  },
  {
   "cell_type": "code",
   "execution_count": 164,
   "metadata": {
    "colab": {},
    "colab_type": "code",
    "id": "zsJAwJ8QVp_J"
   },
   "outputs": [],
   "source": [
    "# data.genres.value_counts().sort_values(ascending = False)\n",
    "# эту задачу я сперва решил не верно так как не знал что нужно считать повторения\n",
    "# верное решение ниже\n",
    "genr = data.genres.str.cat(sep = '|')\n",
    "genr = pd.Series(genr.split('|')).value_counts().sort_values(ascending=False)\n",
    "answers['11'] = genr.index[0]"
   ]
  },
  {
   "cell_type": "markdown",
   "metadata": {
    "colab_type": "text",
    "id": "Ax6g2C8SVp_M"
   },
   "source": [
    "ВАРИАНТ 2"
   ]
  },
  {
   "cell_type": "code",
   "execution_count": 460,
   "metadata": {
    "colab": {},
    "colab_type": "code",
    "id": "otO3SbrSVp_N"
   },
   "outputs": [
    {
     "data": {
      "text/html": [
       "<div>\n",
       "<style scoped>\n",
       "    .dataframe tbody tr th:only-of-type {\n",
       "        vertical-align: middle;\n",
       "    }\n",
       "\n",
       "    .dataframe tbody tr th {\n",
       "        vertical-align: top;\n",
       "    }\n",
       "\n",
       "    .dataframe thead th {\n",
       "        text-align: right;\n",
       "    }\n",
       "</style>\n",
       "<table border=\"1\" class=\"dataframe\">\n",
       "  <thead>\n",
       "    <tr style=\"text-align: right;\">\n",
       "      <th></th>\n",
       "      <th>imdb_id</th>\n",
       "      <th>budget</th>\n",
       "      <th>revenue</th>\n",
       "      <th>profit</th>\n",
       "      <th>original_title</th>\n",
       "      <th>cast</th>\n",
       "      <th>director</th>\n",
       "      <th>tagline</th>\n",
       "      <th>overview</th>\n",
       "      <th>runtime</th>\n",
       "      <th>genres</th>\n",
       "      <th>production_companies</th>\n",
       "      <th>release_date</th>\n",
       "      <th>vote_average</th>\n",
       "      <th>release_year</th>\n",
       "    </tr>\n",
       "  </thead>\n",
       "  <tbody>\n",
       "    <tr>\n",
       "      <th>0</th>\n",
       "      <td>tt0369610</td>\n",
       "      <td>150000000</td>\n",
       "      <td>1513528810</td>\n",
       "      <td>1363528810</td>\n",
       "      <td>Jurassic World</td>\n",
       "      <td>Chris Pratt|Bryce Dallas Howard|Irrfan Khan|Vi...</td>\n",
       "      <td>Colin Trevorrow</td>\n",
       "      <td>The park is open.</td>\n",
       "      <td>Twenty-two years after the events of Jurassic ...</td>\n",
       "      <td>124</td>\n",
       "      <td>Action|Adventure|Science Fiction|Thriller</td>\n",
       "      <td>Universal Studios|Amblin Entertainment|Legenda...</td>\n",
       "      <td>6/9/2015</td>\n",
       "      <td>6.5</td>\n",
       "      <td>2015</td>\n",
       "    </tr>\n",
       "    <tr>\n",
       "      <th>1</th>\n",
       "      <td>tt1392190</td>\n",
       "      <td>150000000</td>\n",
       "      <td>378436354</td>\n",
       "      <td>228436354</td>\n",
       "      <td>Mad Max: Fury Road</td>\n",
       "      <td>Tom Hardy|Charlize Theron|Hugh Keays-Byrne|Nic...</td>\n",
       "      <td>George Miller</td>\n",
       "      <td>What a Lovely Day.</td>\n",
       "      <td>An apocalyptic story set in the furthest reach...</td>\n",
       "      <td>120</td>\n",
       "      <td>Action|Adventure|Science Fiction|Thriller</td>\n",
       "      <td>Village Roadshow Pictures|Kennedy Miller Produ...</td>\n",
       "      <td>5/13/2015</td>\n",
       "      <td>7.1</td>\n",
       "      <td>2015</td>\n",
       "    </tr>\n",
       "    <tr>\n",
       "      <th>2</th>\n",
       "      <td>tt2908446</td>\n",
       "      <td>110000000</td>\n",
       "      <td>295238201</td>\n",
       "      <td>185238201</td>\n",
       "      <td>Insurgent</td>\n",
       "      <td>Shailene Woodley|Theo James|Kate Winslet|Ansel...</td>\n",
       "      <td>Robert Schwentke</td>\n",
       "      <td>One Choice Can Destroy You</td>\n",
       "      <td>Beatrice Prior must confront her inner demons ...</td>\n",
       "      <td>119</td>\n",
       "      <td>Adventure|Science Fiction|Thriller</td>\n",
       "      <td>Summit Entertainment|Mandeville Films|Red Wago...</td>\n",
       "      <td>3/18/2015</td>\n",
       "      <td>6.3</td>\n",
       "      <td>2015</td>\n",
       "    </tr>\n",
       "    <tr>\n",
       "      <th>3</th>\n",
       "      <td>tt2488496</td>\n",
       "      <td>200000000</td>\n",
       "      <td>2068178225</td>\n",
       "      <td>1868178225</td>\n",
       "      <td>Star Wars: The Force Awakens</td>\n",
       "      <td>Harrison Ford|Mark Hamill|Carrie Fisher|Adam D...</td>\n",
       "      <td>J.J. Abrams</td>\n",
       "      <td>Every generation has a story.</td>\n",
       "      <td>Thirty years after defeating the Galactic Empi...</td>\n",
       "      <td>136</td>\n",
       "      <td>Action|Adventure|Science Fiction|Fantasy</td>\n",
       "      <td>Lucasfilm|Truenorth Productions|Bad Robot</td>\n",
       "      <td>12/15/2015</td>\n",
       "      <td>7.5</td>\n",
       "      <td>2015</td>\n",
       "    </tr>\n",
       "    <tr>\n",
       "      <th>4</th>\n",
       "      <td>tt2820852</td>\n",
       "      <td>190000000</td>\n",
       "      <td>1506249360</td>\n",
       "      <td>1316249360</td>\n",
       "      <td>Furious 7</td>\n",
       "      <td>Vin Diesel|Paul Walker|Jason Statham|Michelle ...</td>\n",
       "      <td>James Wan</td>\n",
       "      <td>Vengeance Hits Home</td>\n",
       "      <td>Deckard Shaw seeks revenge against Dominic Tor...</td>\n",
       "      <td>137</td>\n",
       "      <td>Action|Crime|Thriller</td>\n",
       "      <td>Universal Pictures|Original Film|Media Rights ...</td>\n",
       "      <td>4/1/2015</td>\n",
       "      <td>7.3</td>\n",
       "      <td>2015</td>\n",
       "    </tr>\n",
       "    <tr>\n",
       "      <th>...</th>\n",
       "      <td>...</td>\n",
       "      <td>...</td>\n",
       "      <td>...</td>\n",
       "      <td>...</td>\n",
       "      <td>...</td>\n",
       "      <td>...</td>\n",
       "      <td>...</td>\n",
       "      <td>...</td>\n",
       "      <td>...</td>\n",
       "      <td>...</td>\n",
       "      <td>...</td>\n",
       "      <td>...</td>\n",
       "      <td>...</td>\n",
       "      <td>...</td>\n",
       "      <td>...</td>\n",
       "    </tr>\n",
       "    <tr>\n",
       "      <th>1884</th>\n",
       "      <td>tt0120903</td>\n",
       "      <td>75000000</td>\n",
       "      <td>157299717</td>\n",
       "      <td>82299717</td>\n",
       "      <td>X-Men</td>\n",
       "      <td>Patrick Stewart|Hugh Jackman|Ian McKellen|Hall...</td>\n",
       "      <td>Bryan Singer</td>\n",
       "      <td>Evolution Begins</td>\n",
       "      <td>Two mutants, Rogue and Wolverine, come to a pr...</td>\n",
       "      <td>104</td>\n",
       "      <td>Adventure|Action|Science Fiction</td>\n",
       "      <td>Twentieth Century Fox Film Corporation|Donners...</td>\n",
       "      <td>7/13/2000</td>\n",
       "      <td>6.6</td>\n",
       "      <td>2000</td>\n",
       "    </tr>\n",
       "    <tr>\n",
       "      <th>1885</th>\n",
       "      <td>tt0192255</td>\n",
       "      <td>22000000</td>\n",
       "      <td>13555988</td>\n",
       "      <td>-8444012</td>\n",
       "      <td>The Little Vampire</td>\n",
       "      <td>Richard E. Grant|Jonathan Lipnicki|Jim Carter|...</td>\n",
       "      <td>Uli Edel</td>\n",
       "      <td>They're not just best friends, they're blood b...</td>\n",
       "      <td>Based on the popular books, the story tells of...</td>\n",
       "      <td>95</td>\n",
       "      <td>Horror|Family|Foreign</td>\n",
       "      <td>New Line Cinema</td>\n",
       "      <td>10/27/2000</td>\n",
       "      <td>6.4</td>\n",
       "      <td>2000</td>\n",
       "    </tr>\n",
       "    <tr>\n",
       "      <th>1886</th>\n",
       "      <td>tt0131704</td>\n",
       "      <td>76000000</td>\n",
       "      <td>35134820</td>\n",
       "      <td>-40865180</td>\n",
       "      <td>The Adventures of Rocky &amp; Bullwinkle</td>\n",
       "      <td>Rene Russo|Jason Alexander|Piper Perabo|Randy ...</td>\n",
       "      <td>Des McAnuff</td>\n",
       "      <td>This summer it's not the same old bull.</td>\n",
       "      <td>Rocky and Bullwinkle have been living off the ...</td>\n",
       "      <td>88</td>\n",
       "      <td>Adventure|Animation|Action|Comedy|Family</td>\n",
       "      <td>Universal Pictures|Capella International|KC Me...</td>\n",
       "      <td>6/30/2000</td>\n",
       "      <td>4.0</td>\n",
       "      <td>2000</td>\n",
       "    </tr>\n",
       "    <tr>\n",
       "      <th>1887</th>\n",
       "      <td>tt0162983</td>\n",
       "      <td>40000000</td>\n",
       "      <td>36037909</td>\n",
       "      <td>-3962091</td>\n",
       "      <td>Hanging Up</td>\n",
       "      <td>Meg Ryan|Diane Keaton|Lisa Kudrow|Walter Matth...</td>\n",
       "      <td>Diane Keaton</td>\n",
       "      <td>Every family has a few hang-ups.</td>\n",
       "      <td>A trio of sisters bond over their ambivalence ...</td>\n",
       "      <td>94</td>\n",
       "      <td>Comedy|Drama</td>\n",
       "      <td>Laurence Mark Productions|Columbia Pictures Co...</td>\n",
       "      <td>2/16/2000</td>\n",
       "      <td>5.2</td>\n",
       "      <td>2000</td>\n",
       "    </tr>\n",
       "    <tr>\n",
       "      <th>1888</th>\n",
       "      <td>tt0163676</td>\n",
       "      <td>15000000</td>\n",
       "      <td>5217498</td>\n",
       "      <td>-9782502</td>\n",
       "      <td>The In Crowd</td>\n",
       "      <td>Susan Ward|Lori Heuring|Matthew Settle|Nathan ...</td>\n",
       "      <td>Mary Lambert</td>\n",
       "      <td>What would you do to get in?</td>\n",
       "      <td>A mentally disturbed young woman takes a job a...</td>\n",
       "      <td>105</td>\n",
       "      <td>Thriller</td>\n",
       "      <td>Warner Bros. Pictures</td>\n",
       "      <td>7/19/2000</td>\n",
       "      <td>5.2</td>\n",
       "      <td>2000</td>\n",
       "    </tr>\n",
       "  </tbody>\n",
       "</table>\n",
       "<p>1889 rows × 15 columns</p>\n",
       "</div>"
      ],
      "text/plain": [
       "        imdb_id     budget     revenue      profit  \\\n",
       "0     tt0369610  150000000  1513528810  1363528810   \n",
       "1     tt1392190  150000000   378436354   228436354   \n",
       "2     tt2908446  110000000   295238201   185238201   \n",
       "3     tt2488496  200000000  2068178225  1868178225   \n",
       "4     tt2820852  190000000  1506249360  1316249360   \n",
       "...         ...        ...         ...         ...   \n",
       "1884  tt0120903   75000000   157299717    82299717   \n",
       "1885  tt0192255   22000000    13555988    -8444012   \n",
       "1886  tt0131704   76000000    35134820   -40865180   \n",
       "1887  tt0162983   40000000    36037909    -3962091   \n",
       "1888  tt0163676   15000000     5217498    -9782502   \n",
       "\n",
       "                            original_title  \\\n",
       "0                           Jurassic World   \n",
       "1                       Mad Max: Fury Road   \n",
       "2                                Insurgent   \n",
       "3             Star Wars: The Force Awakens   \n",
       "4                                Furious 7   \n",
       "...                                    ...   \n",
       "1884                                 X-Men   \n",
       "1885                    The Little Vampire   \n",
       "1886  The Adventures of Rocky & Bullwinkle   \n",
       "1887                            Hanging Up   \n",
       "1888                          The In Crowd   \n",
       "\n",
       "                                                   cast          director  \\\n",
       "0     Chris Pratt|Bryce Dallas Howard|Irrfan Khan|Vi...   Colin Trevorrow   \n",
       "1     Tom Hardy|Charlize Theron|Hugh Keays-Byrne|Nic...     George Miller   \n",
       "2     Shailene Woodley|Theo James|Kate Winslet|Ansel...  Robert Schwentke   \n",
       "3     Harrison Ford|Mark Hamill|Carrie Fisher|Adam D...       J.J. Abrams   \n",
       "4     Vin Diesel|Paul Walker|Jason Statham|Michelle ...         James Wan   \n",
       "...                                                 ...               ...   \n",
       "1884  Patrick Stewart|Hugh Jackman|Ian McKellen|Hall...      Bryan Singer   \n",
       "1885  Richard E. Grant|Jonathan Lipnicki|Jim Carter|...          Uli Edel   \n",
       "1886  Rene Russo|Jason Alexander|Piper Perabo|Randy ...       Des McAnuff   \n",
       "1887  Meg Ryan|Diane Keaton|Lisa Kudrow|Walter Matth...      Diane Keaton   \n",
       "1888  Susan Ward|Lori Heuring|Matthew Settle|Nathan ...      Mary Lambert   \n",
       "\n",
       "                                                tagline  \\\n",
       "0                                     The park is open.   \n",
       "1                                    What a Lovely Day.   \n",
       "2                            One Choice Can Destroy You   \n",
       "3                         Every generation has a story.   \n",
       "4                                   Vengeance Hits Home   \n",
       "...                                                 ...   \n",
       "1884                                   Evolution Begins   \n",
       "1885  They're not just best friends, they're blood b...   \n",
       "1886            This summer it's not the same old bull.   \n",
       "1887                   Every family has a few hang-ups.   \n",
       "1888                       What would you do to get in?   \n",
       "\n",
       "                                               overview  runtime  \\\n",
       "0     Twenty-two years after the events of Jurassic ...      124   \n",
       "1     An apocalyptic story set in the furthest reach...      120   \n",
       "2     Beatrice Prior must confront her inner demons ...      119   \n",
       "3     Thirty years after defeating the Galactic Empi...      136   \n",
       "4     Deckard Shaw seeks revenge against Dominic Tor...      137   \n",
       "...                                                 ...      ...   \n",
       "1884  Two mutants, Rogue and Wolverine, come to a pr...      104   \n",
       "1885  Based on the popular books, the story tells of...       95   \n",
       "1886  Rocky and Bullwinkle have been living off the ...       88   \n",
       "1887  A trio of sisters bond over their ambivalence ...       94   \n",
       "1888  A mentally disturbed young woman takes a job a...      105   \n",
       "\n",
       "                                         genres  \\\n",
       "0     Action|Adventure|Science Fiction|Thriller   \n",
       "1     Action|Adventure|Science Fiction|Thriller   \n",
       "2            Adventure|Science Fiction|Thriller   \n",
       "3      Action|Adventure|Science Fiction|Fantasy   \n",
       "4                         Action|Crime|Thriller   \n",
       "...                                         ...   \n",
       "1884           Adventure|Action|Science Fiction   \n",
       "1885                      Horror|Family|Foreign   \n",
       "1886   Adventure|Animation|Action|Comedy|Family   \n",
       "1887                               Comedy|Drama   \n",
       "1888                                   Thriller   \n",
       "\n",
       "                                   production_companies release_date  \\\n",
       "0     Universal Studios|Amblin Entertainment|Legenda...     6/9/2015   \n",
       "1     Village Roadshow Pictures|Kennedy Miller Produ...    5/13/2015   \n",
       "2     Summit Entertainment|Mandeville Films|Red Wago...    3/18/2015   \n",
       "3             Lucasfilm|Truenorth Productions|Bad Robot   12/15/2015   \n",
       "4     Universal Pictures|Original Film|Media Rights ...     4/1/2015   \n",
       "...                                                 ...          ...   \n",
       "1884  Twentieth Century Fox Film Corporation|Donners...    7/13/2000   \n",
       "1885                                    New Line Cinema   10/27/2000   \n",
       "1886  Universal Pictures|Capella International|KC Me...    6/30/2000   \n",
       "1887  Laurence Mark Productions|Columbia Pictures Co...    2/16/2000   \n",
       "1888                              Warner Bros. Pictures    7/19/2000   \n",
       "\n",
       "      vote_average  release_year  \n",
       "0              6.5          2015  \n",
       "1              7.1          2015  \n",
       "2              6.3          2015  \n",
       "3              7.5          2015  \n",
       "4              7.3          2015  \n",
       "...            ...           ...  \n",
       "1884           6.6          2000  \n",
       "1885           6.4          2000  \n",
       "1886           4.0          2000  \n",
       "1887           5.2          2000  \n",
       "1888           5.2          2000  \n",
       "\n",
       "[1889 rows x 15 columns]"
      ]
     },
     "execution_count": 460,
     "metadata": {},
     "output_type": "execute_result"
    }
   ],
   "source": [
    "# честно сказать я не придумал второго метода. но наверное можно по групбай и стр контейнс, я еще попробую\n",
    "data"
   ]
  },
  {
   "cell_type": "markdown",
   "metadata": {
    "colab_type": "text",
    "id": "T9_bPWpkVp_Q"
   },
   "source": [
    "# 12. Фильмы какого жанра чаще всего становятся прибыльными? "
   ]
  },
  {
   "cell_type": "code",
   "execution_count": 189,
   "metadata": {
    "colab": {},
    "colab_type": "code",
    "id": "Tmt8MaK1Vp_R"
   },
   "outputs": [],
   "source": [
    "most_value = data[data['profit'] > 0]\n",
    "most_value = most_value.genres.str.cat(sep = '|')\n",
    "most_value = pd.Series(most_value.split('|')).value_counts().sort_values(ascending = False)\n",
    "answers['12'] = most_value.index[0]"
   ]
  },
  {
   "cell_type": "markdown",
   "metadata": {
    "colab_type": "text",
    "id": "0F23bgsDVp_U"
   },
   "source": [
    "# 13. У какого режиссера самые большие суммарные кассовые сбооры?"
   ]
  },
  {
   "cell_type": "code",
   "execution_count": 188,
   "metadata": {
    "colab": {},
    "colab_type": "code",
    "id": "K6Z3J8ygVp_X"
   },
   "outputs": [],
   "source": [
    "director = data.groupby(['director'])['revenue'].sum()\n",
    "answers['13'] = director.sort_values(ascending=False).index[0]"
   ]
  },
  {
   "cell_type": "markdown",
   "metadata": {
    "colab_type": "text",
    "id": "PsYC9FgRVp_a"
   },
   "source": [
    "# 14. Какой режисер снял больше всего фильмов в стиле Action?"
   ]
  },
  {
   "cell_type": "code",
   "execution_count": 187,
   "metadata": {
    "colab": {},
    "colab_type": "code",
    "id": "wd2M-wHeVp_b"
   },
   "outputs": [],
   "source": [
    "# # импортируем каунтер\n",
    "# from collections import Counter\n",
    "# # делаем каунтер-словарь\n",
    "# director_count = Counter()\n",
    "# # прохрдимся циклом по 7 столбцу датафрейма, который как раз отвечает за режиссера.\n",
    "# # при проходе обновляем каунтер апдейтом через сплит,\n",
    "# for row in data.itertuples():\n",
    "#     director_count.update(row[7].split('|'))\n",
    "# # теперь опредляем кто-тот самый часто встречающийся так как словарь смотреть не очень удобно.\n",
    "# max(director_count, key = director_count.get)\n",
    "# director_count\n",
    "\n",
    "data_dir = data[data.genres.str.contains(pat = 'Action')]\n",
    "# data_dir = data_dir.value_counts()\n",
    "data_dir = pd.Series(data_dir.director)\n",
    "data_dir.value_counts()\n",
    "\n",
    "# **** Честно сказать я не совсем понял как так вышло.\n",
    "# Попробовал решить задачу еще раз и все сломал :) но по имее все же правильно написано? \n",
    "# Написал просто верный ответ с прошлого раза, чтоб было верно в ответе :) больше не могу дамать над этой задачей :) \n",
    "answers['14'] = 'Robert Rodriguez'"
   ]
  },
  {
   "cell_type": "markdown",
   "metadata": {
    "colab_type": "text",
    "id": "PQ0KciD7Vp_f"
   },
   "source": [
    "# 15. Фильмы с каким актером принесли самые высокие кассовые сборы в 2012 году? "
   ]
  },
  {
   "cell_type": "code",
   "execution_count": 186,
   "metadata": {
    "colab": {},
    "colab_type": "code",
    "id": "aga62oeKVp_g"
   },
   "outputs": [],
   "source": [
    "# фильтруем по году и делаем новый датафрейм, у которого только 2012 год\n",
    "year_2012 = data[data['release_year'] == 2012]\n",
    "\n",
    "# делаем строку из всех данных что есть метод str.cat позволяет это сделать. \n",
    "# и установить разделитель палку (моджно выбрать любой разделитель, но палка выбрана так как между \n",
    "#                                 собой в этом дата фрейме разделение актеров одноно фильтма по палке)\n",
    "actors = year_2012['cast'].str.cat(sep = '|')\n",
    "\n",
    "# после этого делаем сериес. в котором у нас будут все актеры,\n",
    "# которые вообще упоминаются в строоке. но они дублитруются\n",
    "actors = pd.Series(actors.split('|'))\n",
    "\n",
    "# теперь мы убиваем 2 зайцев. 1 - мы считаем количесво повторений,\n",
    "# 2 - переворачиваем сириес чтоб имя актера был индексом\n",
    "actors = actors.value_counts()\n",
    "\n",
    "# теперь самое инетересное. делаем цикл, в для сериес актеров,\n",
    "# а точнее для индексов этой сериес (имена актеров)\n",
    "\n",
    "\n",
    "for x in actors.index:\n",
    "#     actors[index(name of the actor)] = датафрейм.где ищем деньги[датафрейм.\n",
    "#     актеры.строка.содержит(паттерн = х (так как для него мы готовим сумму \n",
    "#     то есть для каждого актера так проходим))].сумма всех ревеню где эта строка верна\n",
    "    actors[x] = year_2012.revenue[year_2012.cast.str.contains(pat = x)].sum()\n",
    "\n",
    "actors.sort_values(ascending=False)\n",
    "actors = actors.sort_values(ascending=False)\n",
    "answers['15'] = actors.index[0]"
   ]
  },
  {
   "cell_type": "markdown",
   "metadata": {
    "colab_type": "text",
    "id": "mWHyyL7QVp_j"
   },
   "source": [
    "# 16. Какой актер снялся в большем количестве высокобюджетных фильмов?"
   ]
  },
  {
   "cell_type": "code",
   "execution_count": 185,
   "metadata": {
    "colab": {},
    "colab_type": "code",
    "id": "qQtmHKTFVp_k"
   },
   "outputs": [],
   "source": [
    "# фильтруем датафрейм так, чтоб там били только те, чье значение бюджет больше чем среднее\n",
    "buget = data[data['budget'] > data['budget'].mean()]\n",
    "buget\n",
    "# делаем аналогичный список актеров\n",
    "act = buget['cast'].str.cat(sep = '|')\n",
    "act = pd.Series(act.split('|'))\n",
    "# только на этот раз все проще, нам не нужно ничего переделывать, нам достаточно просто сложить и \n",
    "# отсортировать. \n",
    "# Ну и это бы поменять с 15 местами, но тут все стироилось скорее на чтение задачи перед выполнением.\n",
    "# Так вот, я не прочитал :) \n",
    "act = act.value_counts().sort_values(ascending=False)\n",
    "answers['16'] = act.index[0]\n"
   ]
  },
  {
   "cell_type": "markdown",
   "metadata": {
    "colab_type": "text",
    "id": "NIh6AaW5Vp_n"
   },
   "source": [
    "# 17. В фильмах какого жанра больше всего снимался Nicolas Cage? "
   ]
  },
  {
   "cell_type": "code",
   "execution_count": 184,
   "metadata": {
    "colab": {},
    "colab_type": "code",
    "id": "H74SJDIBVp_n"
   },
   "outputs": [],
   "source": [
    "cage = data[data.cast.str.contains(pat = 'Nicolas Cage')]\n",
    "# actors[x] = year_2012.revenue[year_2012.cast.str.contains(pat = x)].sum()\n",
    "cage = cage['genres'].str.cat(sep = '|')\n",
    "cage = pd.Series(cage.split('|'))\n",
    "cage = cage.value_counts().sort_values(ascending=False)\n",
    "answers['17'] = cage.index[0]\n"
   ]
  },
  {
   "cell_type": "markdown",
   "metadata": {
    "colab_type": "text",
    "id": "RqOmPRfWVp_q"
   },
   "source": [
    "# 18. Самый убыточный фильм от Paramount Pictures"
   ]
  },
  {
   "cell_type": "code",
   "execution_count": 183,
   "metadata": {
    "colab": {},
    "colab_type": "code",
    "id": "9E_B0Y96Vp_r"
   },
   "outputs": [],
   "source": [
    "unprofit = data[(data['profit'] < 0) &\n",
    "                (data['production_companies'].str.contains(pat = 'Paramount Pictures'))] \n",
    "unprofit = unprofit['profit'].min()\n",
    "unp = data[data['profit'] == unprofit]\n",
    "answers['18'] = unp"
   ]
  },
  {
   "cell_type": "markdown",
   "metadata": {
    "colab_type": "text",
    "id": "vS8Ur6ddVp_u"
   },
   "source": [
    "# 19. Какой год стал самым успешным по суммарным кассовым сборам?"
   ]
  },
  {
   "cell_type": "code",
   "execution_count": 182,
   "metadata": {
    "colab": {},
    "colab_type": "code",
    "id": "Dnbt4GdIVp_v"
   },
   "outputs": [],
   "source": [
    "# эта подготовка файла одна общая для 19 и 20 вопроса.\n",
    "# Так как вопросы очень схожи. оставил это тут. так как это не является подготовкой информации,\n",
    "# а толькор локалдьная для 1-2 вопросов. \n",
    "year = data.release_year\n",
    "year = year.value_counts()\n",
    "date_str = data\n",
    "# тут мы переделываем в смоем датасете год на строку чтоб было удобней потом с ней работать контейнсом\n",
    "date_str['release_year'] = date_str['release_year'].map(str)\n",
    "\n",
    "\n",
    "for x in year.index:\n",
    "    year[x] = date_str.revenue[date_str.release_year.str.contains(pat = x)].sum()\n",
    "\n",
    "year = year.sort_values(ascending=False)\n",
    "answers['19'] = year.index[0]"
   ]
  },
  {
   "cell_type": "markdown",
   "metadata": {
    "colab_type": "text",
    "id": "JAzJh4QAVp_z"
   },
   "source": [
    "# 20. Какой самый прибыльный год для студии Warner Bros?"
   ]
  },
  {
   "cell_type": "code",
   "execution_count": 181,
   "metadata": {
    "colab": {},
    "colab_type": "code",
    "id": "wgVu02DEVp_0"
   },
   "outputs": [],
   "source": [
    "for x in year.index:\n",
    "    year[x] = date_str.revenue[(date_str.release_year.str.contains(pat = x)) & \n",
    "                               (date_str.production_companies.str.contains(pat = 'Warner Bros'))].sum()\n",
    "\n",
    "year = year.sort_values(ascending=False)\n",
    "answers['20'] = year.index[0]"
   ]
  },
  {
   "cell_type": "markdown",
   "metadata": {
    "colab_type": "text",
    "id": "8Im1S2HRVp_4"
   },
   "source": [
    "# 21. В каком месяце за все годы суммарно вышло больше всего фильмов?"
   ]
  },
  {
   "cell_type": "code",
   "execution_count": 179,
   "metadata": {
    "colab": {},
    "colab_type": "code",
    "id": "lev6TH7gVp_4"
   },
   "outputs": [],
   "source": [
    "# Тут я понимал, как ваще все это работает с месяцами\n",
    "data_month = data[data['release_date'].dt.month == 9]\n",
    "\n",
    "# Создам сериес со всеми фильмами и месяцами, когда они вышли\n",
    "data_months = data['release_date'].dt.month\n",
    "# сосчитаем количесво повторяющихся месяцев, заодно перевернем сериес чтоб месяц был индексом\n",
    "data_months = data_months.value_counts()\n",
    "# а теперь просто отсортируем и все\n",
    "data_months = data_months.sort_values(ascending=False)\n",
    "#                   dt.month == 11\n",
    "answers['21'] = data_months.index[0]"
   ]
  },
  {
   "cell_type": "markdown",
   "metadata": {
    "colab_type": "text",
    "id": "uAJsZ_NeVp_7"
   },
   "source": [
    "# 22. Сколько суммарно вышло фильмов летом? (за июнь, июль, август)"
   ]
  },
  {
   "cell_type": "code",
   "execution_count": 190,
   "metadata": {
    "colab": {},
    "colab_type": "code",
    "id": "Aa-hEREoVp_8"
   },
   "outputs": [
    {
     "data": {
      "text/plain": [
       "22"
      ]
     },
     "execution_count": 190,
     "metadata": {},
     "output_type": "execute_result"
    }
   ],
   "source": [
    "data_summer = data[(data['release_date'].dt.month == 6) |\n",
    "                   (data['release_date'].dt.month == 7) | \n",
    "                  (data['release_date'].dt.month == 8)]\n",
    "answers['22']  = len(data_summer)\n"
   ]
  },
  {
   "cell_type": "markdown",
   "metadata": {
    "colab_type": "text",
    "id": "G94ppOY1VqAA"
   },
   "source": [
    "# 23. Для какого режиссера зима – самое продуктивное время года? "
   ]
  },
  {
   "cell_type": "code",
   "execution_count": 191,
   "metadata": {
    "colab": {},
    "colab_type": "code",
    "id": "RhNTsamuVqAB"
   },
   "outputs": [],
   "source": [
    "data_winter = data[(data['release_date'].dt.month == 11) |\n",
    "                   (data['release_date'].dt.month == 12) | \n",
    "                  (data['release_date'].dt.month == 1)]\n",
    "winter_director = data_winter['director'].str.cat(sep = '|')\n",
    "winter_director = pd.Series(winter_director.split('|'))\n",
    "winter_director = winter_director.value_counts().index[0]\n",
    "answers['23'] = winter_director"
   ]
  },
  {
   "cell_type": "markdown",
   "metadata": {
    "colab_type": "text",
    "id": "RBo0JVjVVqAF"
   },
   "source": [
    "# 24. Какая студия дает самые длинные названия своим фильмам по количеству символов?"
   ]
  },
  {
   "cell_type": "code",
   "execution_count": 192,
   "metadata": {
    "colab": {},
    "colab_type": "code",
    "id": "QRGS8L0iVqAG"
   },
   "outputs": [],
   "source": [
    "data = pd.read_csv('movie_bd_v5.csv')\n",
    "# Очень замороченный способ конечно. \n",
    "# Создаем словарь, в котооый потом будем засовывать название фильма и длинну символов названия\n",
    "lenght_name = {}\n",
    "# наполняем этот словарь ключ - имя фильма, значение - длинна символов\n",
    "for i in range(len(data)):\n",
    "    x=data.iloc[i].original_title\n",
    "    lenght_name[x] = len(data.iloc[i].original_title)\n",
    "# создаем сириес из словаря (так как я не смог их такого простого словаря создать сразу датафрейм)\n",
    "lenght_name = pd.Series(lenght_name)\n",
    "# из сириес создаем датафрейм\n",
    "lenght_name = pd.DataFrame(lenght_name)\n",
    "# у нас не оч датафрейм, всего один столбец, но мы можем сделать столбец два, \n",
    "# который будет равен названию фильма, которое мы берем изх индекса, так ак смы коряво создади датафрейм.\n",
    "lenght_name['original_title'] = lenght_name.index\n",
    "\n",
    "lenght_name.columns = ['len','original_title']\n",
    "# # ттеперь нам нужно склеить эти 2 датафрейма по названию\n",
    "joyned_df = data.merge(lenght_name, on='original_title', how='right')\n",
    "# # теперь мы делаем все по старинке (делаем строку из всех студий, делаем из стрпоки спписок,\n",
    "# #                                   переворачиваем, сириес)\n",
    "studios = joyned_df['production_companies'].str.cat(sep = '|')\n",
    "# # сериес\n",
    "studios = pd.Series(studios.split('|'))\n",
    "# # переворачиваем сириес\n",
    "studios = studios.value_counts()\n",
    "# # делаем цикл, для сериес studios,\n",
    "# # а точнее для индексов этой сериес\n",
    "for x in studios.index:\n",
    "    studios[x] = joyned_df.len[joyned_df.production_companies.str.contains(pat = x)].mean()\n",
    "answers['24'] = studios.sort_values(ascending=False).index[0]\n"
   ]
  },
  {
   "cell_type": "markdown",
   "metadata": {
    "colab_type": "text",
    "id": "9G0hbvR7VqAK"
   },
   "source": [
    "# 25. Описание фильмов какой студии в среднем самые длинные по количеству слов?"
   ]
  },
  {
   "cell_type": "code",
   "execution_count": 193,
   "metadata": {
    "colab": {},
    "colab_type": "code",
    "id": "Ge2GsLNxVqAK"
   },
   "outputs": [],
   "source": [
    "# создаем строку с всеми киностудиями затем делаем из него сириес, затем переворачиваем и считаем (все в одном)\n",
    "films = pd.Series(data['production_companies'].str.cat(sep = '|').split('|')).value_counts(ascending=False)\n",
    "# Проверяем что у нас все верно поздалось\n",
    "films\n",
    "# Добавляем колонку в датафрейм с количесвом слов (сплитуем по пробелу и считаем длинну)\n",
    "data['words_lenght'] = data.overview.map(lambda x: len(x.split(' ')))\n",
    "# проверяем что все заработало\n",
    "data\n",
    "# теперь цикл, который будет в сериес мы прозодим им по всему датафрейму по колонке \n",
    "for i in films.index:\n",
    "    films[i] = data.words_lenght[data.production_companies.str.contains(pat = i)].mean()\n",
    "answers['25'] = films.sort_values(ascending=False).index[0]"
   ]
  },
  {
   "cell_type": "markdown",
   "metadata": {
    "colab_type": "text",
    "id": "FJ1AFt90VqAP"
   },
   "source": [
    "# 26. Какие фильмы входят в 1 процент лучших по рейтингу? \n",
    "по vote_average"
   ]
  },
  {
   "cell_type": "code",
   "execution_count": 194,
   "metadata": {
    "colab": {},
    "colab_type": "code",
    "id": "8qmJVq4CVqAQ"
   },
   "outputs": [],
   "source": [
    "data.vote_average.quantile(.99) \n",
    "data_vote = data[data['vote_average'] > data['vote_average'].quantile(.99)]\n",
    "data_vote = data_vote.original_title\n",
    "answers['26'] = data_vote"
   ]
  },
  {
   "cell_type": "markdown",
   "metadata": {
    "colab_type": "text",
    "id": "MdXsUXbCVqAV"
   },
   "source": [
    "# 27. Какие актеры чаще всего снимаются в одном фильме вместе?\n"
   ]
  },
  {
   "cell_type": "markdown",
   "metadata": {
    "colab_type": "text",
    "id": "4ymnxEVoVqAW"
   },
   "source": [
    "ВАРИАНТ 2"
   ]
  },
  {
   "cell_type": "markdown",
   "metadata": {
    "colab_type": "text",
    "id": "U0nONFnGVqAX"
   },
   "source": [
    "# Submission"
   ]
  },
  {
   "cell_type": "code",
   "execution_count": 10,
   "metadata": {
    "colab": {},
    "colab_type": "code",
    "id": "IfcaRO9-VqAX",
    "outputId": "0f132912-32bb-4196-c98c-abfbc4ad5a5f"
   },
   "outputs": [
    {
     "ename": "NameError",
     "evalue": "name 'answers' is not defined",
     "output_type": "error",
     "traceback": [
      "\u001b[0;31m---------------------------------------------------------------------------\u001b[0m",
      "\u001b[0;31mNameError\u001b[0m                                 Traceback (most recent call last)",
      "\u001b[0;32m<ipython-input-10-da9b661f2617>\u001b[0m in \u001b[0;36m<module>\u001b[0;34m\u001b[0m\n\u001b[1;32m      1\u001b[0m \u001b[0;31m# в конце можно посмотреть свои ответы к каждому вопросу\u001b[0m\u001b[0;34m\u001b[0m\u001b[0;34m\u001b[0m\u001b[0;34m\u001b[0m\u001b[0m\n\u001b[0;32m----> 2\u001b[0;31m \u001b[0manswers\u001b[0m\u001b[0;34m\u001b[0m\u001b[0;34m\u001b[0m\u001b[0m\n\u001b[0m",
      "\u001b[0;31mNameError\u001b[0m: name 'answers' is not defined"
     ]
    }
   ],
   "source": [
    "# в конце можно посмотреть свои ответы к каждому вопросу\n",
    "answers"
   ]
  },
  {
   "cell_type": "code",
   "execution_count": 195,
   "metadata": {
    "colab": {},
    "colab_type": "code",
    "id": "SiRmHPl8VqAd"
   },
   "outputs": [
    {
     "data": {
      "text/plain": [
       "26"
      ]
     },
     "execution_count": 195,
     "metadata": {},
     "output_type": "execute_result"
    }
   ],
   "source": [
    "# и убедиться что ни чего не пропустил)\n",
    "len(answers)"
   ]
  },
  {
   "cell_type": "code",
   "execution_count": 0,
   "metadata": {
    "colab": {},
    "colab_type": "code",
    "id": "uCfuTkRbVqAg"
   },
   "outputs": [],
   "source": []
  },
  {
   "cell_type": "code",
   "execution_count": null,
   "metadata": {},
   "outputs": [],
   "source": []
  }
 ],
 "metadata": {
  "colab": {
   "name": "Copy of [SF-DST] Movies IMBD v4.1 TEMPLATE.ipynb",
   "provenance": []
  },
  "kernelspec": {
   "display_name": "Python 3",
   "language": "python",
   "name": "python3"
  },
  "language_info": {
   "codemirror_mode": {
    "name": "ipython",
    "version": 3
   },
   "file_extension": ".py",
   "mimetype": "text/x-python",
   "name": "python",
   "nbconvert_exporter": "python",
   "pygments_lexer": "ipython3",
   "version": "3.7.4"
  }
 },
 "nbformat": 4,
 "nbformat_minor": 1
}
